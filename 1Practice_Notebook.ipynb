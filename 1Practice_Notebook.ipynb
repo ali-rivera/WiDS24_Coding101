{
 "cells": [
  {
   "cell_type": "markdown",
   "metadata": {},
   "source": [
    "[![Open In Colab](https://colab.research.google.com/assets/colab-badge.svg)](https://colab.research.google.com/github/ali-rivera/WiDS24_Coding101/blob/main/1Practice_Notebook.ipynb)"
   ]
  },
  {
   "cell_type": "markdown",
   "metadata": {},
   "source": [
    "# Coding 101\n",
    "### WiDS 2024 - UVA\n",
    "\n",
    "**Author: Ali Rivera** - ali.rivera@virginia.edu\n",
    "\n",
    "\n",
    "In this notebook, we will use Python to solve a data science problem - can we use machine learning to predict if breast cells are cancerous using cell nuclei measurements in our dataset? \n",
    "\n",
    "The purpose of this workshop is to get some hands on experience using Python and feel comfortable enough to explore bigger topics on your own. This is meant to be a starting place/launching pad, and is not an all encompassing solution to the problem.\n",
    "\n",
    "In this notebook, we will:\n",
    "1. Explore Jupyter notebooks running Python through Google Colab\n",
    "2. Explore some Python basics through data cleaning/preprocessing application\n",
    "3. Impliment a common classification model (kNN) and evaluate model accuracy on test data"
   ]
  },
  {
   "cell_type": "markdown",
   "metadata": {},
   "source": [
    "## Anatomy of a Jupyter Notebook"
   ]
  },
  {
   "cell_type": "code",
   "execution_count": null,
   "metadata": {},
   "outputs": [],
   "source": [
    "#this is a code cell!\n",
    "\n",
    "# you can add comments using the # to indicate plain text\n",
    "# or, you can add code for the computer to run. Let's run our first piece of code...\n",
    "\n"
   ]
  },
  {
   "cell_type": "markdown",
   "metadata": {},
   "source": [
    "This is a markdown cell! \n",
    "\n",
    "You can add **rich text** in these cells.\n",
    "\n",
    "In a markdown cell, you can use formatting like:\n",
    "- *italics*, \n",
    "- **bold**, \n",
    "- `code`, \n",
    "- equations $e=mc^2$ and more. \n",
    "\n",
    "Double click on this cell to see how this formatting is applied.\n",
    "\n",
    "Here is a [markdown cheatsheet](https://images.datacamp.com/image/upload/v1697797990/Marketing/Blog/Markdown_Cheat_Sheet.pdf) that you can use if you're interested in getting started using markdown!"
   ]
  },
  {
   "cell_type": "markdown",
   "metadata": {},
   "source": [
    "## Python basics"
   ]
  },
  {
   "cell_type": "code",
   "execution_count": null,
   "metadata": {},
   "outputs": [],
   "source": [
    "# variables and data types\n",
    "\n",
    "str1 = \"This is a string!\" \n",
    "int1 = 2 \n",
    "float1 = 3.14 \n",
    "bool1 = True \n",
    "list1 = [\"string\", 0, 1.23, False] "
   ]
  },
  {
   "cell_type": "code",
   "execution_count": null,
   "metadata": {},
   "outputs": [],
   "source": [
    "# lets use the print function we used earlier to see what is saved in our variables!\n",
    "\n",
    "\n",
    "\n",
    "\n",
    "\n"
   ]
  },
  {
   "cell_type": "code",
   "execution_count": null,
   "metadata": {},
   "outputs": [],
   "source": [
    "# data types have functions that are specific to them\n",
    "# notice that we put our variable name BEFORE the function here...\n",
    "\n",
    "str1.upper()"
   ]
  },
  {
   "cell_type": "code",
   "execution_count": null,
   "metadata": {},
   "outputs": [],
   "source": [
    "# .upper() is a string function, so we can't use it on other data types, like ints or floats\n",
    "\n",
    "int1.upper() # throws an error"
   ]
  },
  {
   "cell_type": "markdown",
   "metadata": {},
   "source": [
    "#### Packages \n",
    "\n",
    "Packages are extensions that you can add to your Python environment that help you perform specific tasks. \n",
    "\n",
    "Packages contain code to perform tasks that you would otherwise have to write yourself. For example, there is a `math` package that contains funcitons to do math operations beyond the basic operations already in Python.\n",
    "\n",
    "In Data Science, we frequently use packages for things like data processing (`pandas`), linear algebra (`NumPy`), machine learning (`SciKitLearn`), and much, much more! You can create your own packages and share them with others to use!"
   ]
  },
  {
   "cell_type": "code",
   "execution_count": null,
   "metadata": {},
   "outputs": [],
   "source": [
    "#import packages \n",
    "\n",
    "import pandas as pd #for data processing\n",
    "\n",
    "from sklearn.preprocessing import MinMaxScaler # to scale our data\n",
    "from sklearn.model_selection import train_test_split # to split the train/test sets\n",
    "from sklearn.neighbors import KNeighborsClassifier # our ML model"
   ]
  },
  {
   "cell_type": "markdown",
   "metadata": {},
   "source": [
    "## Let's apply this to our problem!"
   ]
  },
  {
   "cell_type": "markdown",
   "metadata": {},
   "source": [
    "Now, we're going to create a model to predict if cells are cancerous using our data.\n",
    "\n",
    "This dataset comes from [Kaggle](https://www.kaggle.com/datasets/abhinavmangalore/breast-cancer-dataset-wisconsin-diagnostic-uci) and contains various nuclei measurements of breast cells, as well as a diagnosis label and id number."
   ]
  },
  {
   "cell_type": "markdown",
   "metadata": {},
   "source": [
    "[`.read_csv()`](https://pandas.pydata.org/pandas-docs/stable/reference/api/pandas.read_csv.html) is a function that reads in a .csv file type and stores it in a data frame - which is basically a table!"
   ]
  },
  {
   "cell_type": "code",
   "execution_count": null,
   "metadata": {},
   "outputs": [],
   "source": [
    "# read in data\n",
    "\n",
    "url = \"https://raw.githubusercontent.com/ali-rivera/WiDS24_Coding101/main/breast-cancer-wisconsin-data.csv\"\n",
    "df = pd.read_csv() #add the url in the input for this function"
   ]
  },
  {
   "cell_type": "code",
   "execution_count": null,
   "metadata": {},
   "outputs": [],
   "source": [
    "# visualize the first 5 rows of the data\n",
    "df"
   ]
  },
  {
   "cell_type": "markdown",
   "metadata": {},
   "source": [
    "[`.head()`](https://pandas.pydata.org/docs/reference/api/pandas.DataFrame.head.html) is a function that shows the first *n* rows in a dataframe. If no `n` is specified, the function uses the default value of 5. "
   ]
  },
  {
   "cell_type": "markdown",
   "metadata": {},
   "source": [
    "## Look at data"
   ]
  },
  {
   "cell_type": "markdown",
   "metadata": {},
   "source": [
    "We'll also want to understand how many observations are labeled as benign(B)/malignant(M). A considerable difference in these numbers could affect our model performance...\n",
    "\n",
    "For this, we can use the [`.value_counts()`](https://pandas.pydata.org/docs/reference/api/pandas.DataFrame.value_counts.html) function!"
   ]
  },
  {
   "cell_type": "code",
   "execution_count": null,
   "metadata": {},
   "outputs": [],
   "source": [
    "# check our outcome distribution\n",
    "df['diagnosis']"
   ]
  },
  {
   "cell_type": "markdown",
   "metadata": {},
   "source": [
    "## Preproccessing"
   ]
  },
  {
   "cell_type": "markdown",
   "metadata": {},
   "source": [
    "Before we can put our data into any models, there are a few things we need to do to make it fit nicely.\n",
    "\n",
    "In the next few cells, we will:\n",
    "1. Change our outcome variable to a `boolean` (true/false)\n",
    "2. Drop any duplicative/unnecessary columns for our model\n",
    "3. Split our data into a training set and a testing set"
   ]
  },
  {
   "cell_type": "markdown",
   "metadata": {},
   "source": [
    "#### 1. Change outcome variable to a boolean"
   ]
  },
  {
   "cell_type": "code",
   "execution_count": null,
   "metadata": {},
   "outputs": [],
   "source": [
    "# turn diagnosis into a boolean (true/false) \n",
    "df['diagnosis'].replace(['B', 'M'], [False, True]) # add the code to save this as a new column called 'cancer'\n",
    "\n",
    "# Check the new column we added\n"
   ]
  },
  {
   "cell_type": "markdown",
   "metadata": {},
   "source": [
    "#### 2. Drop any duplicative/unnecessary columns"
   ]
  },
  {
   "cell_type": "code",
   "execution_count": null,
   "metadata": {},
   "outputs": [],
   "source": [
    "# drop diagnosis column (now duplicated in cancer) and id \n",
    "\n",
    "df = df.drop(columns = ['diagnosis', 'id'])"
   ]
  },
  {
   "cell_type": "markdown",
   "metadata": {},
   "source": [
    "#### 3. Split data into training/test sets\n"
   ]
  },
  {
   "cell_type": "code",
   "execution_count": null,
   "metadata": {},
   "outputs": [],
   "source": [
    "# split data into training and testing set\n",
    "## The X_ sets are the predictors, the y_ sets are the outcomes\n",
    "\n",
    "X_data = df.drop(columns='cancer')\n",
    "y_data = df['cancer']\n",
    "\n",
    "X_train, X_test, y_train, y_test = train_test_split(X_data, y_data, test_size=0.33, random_state=42)"
   ]
  },
  {
   "cell_type": "markdown",
   "metadata": {},
   "source": [
    "## Model building"
   ]
  },
  {
   "cell_type": "markdown",
   "metadata": {},
   "source": [
    "### kNN (k Nearest Neighbor)\n",
    "\n",
    "<img src=\"https://miro.medium.com/v2/resize:fit:810/0*rc5_e6-6AHzqppcr\" width = 500>\n",
    "\n",
    "[image source](https://medium.com/analytics-vidhya/k-nearest-neighbor-the-maths-behind-it-how-it-works-and-an-example-f1de1208546c)\n",
    "\n",
    "\n",
    "kNN classifies a new observation by finding the k nearest neighbors to the point in n-dimensional space. k is the number of neighbors, and n is the number of features in your data. \n",
    "\n",
    "kNN uses the majority vote of the k neighbors to classify the point. The model can be tuned by choosing the k value to produce the best fit. Choosing too small of a k will overfit your model, causing it to be too specific to the training data and not generalizable to new data. Choosing too large of a k will underfit the model and may not capture the important trends in the data. Overfitting and underfitting both result in poor model performance.\n",
    "\n",
    "For more information on kNN, check out this [IBM page](https://www.ibm.com/topics/knn#:~:text=The%20k%2Dnearest%20neighbors%20(KNN)%20algorithm%20is%20a%20non,used%20in%20machine%20learning%20today.)."
   ]
  },
  {
   "cell_type": "markdown",
   "metadata": {},
   "source": [
    "--------------------------------"
   ]
  },
  {
   "cell_type": "markdown",
   "metadata": {},
   "source": [
    "We'll be using the [`KNeighborsClassifier`](https://scikit-learn.org/stable/modules/generated/sklearn.neighbors.KNeighborsClassifier.html#sklearn.neighbors.KNeighborsClassifier) model from `SciKitLearn`. \n",
    "\n",
    "After we train the model, we can use the [`.score()`](https://scikit-learn.org/stable/modules/generated/sklearn.neighbors.KNeighborsClassifier.html#sklearn.neighbors.KNeighborsClassifier.score) function to make predictions on our test data and calculate the accuracy score."
   ]
  },
  {
   "cell_type": "code",
   "execution_count": null,
   "metadata": {},
   "outputs": [],
   "source": [
    "kNN = KNeighborsClassifier()# create model with default k value\n",
    "kNN.fit(X_train, y_train) #train\n",
    "\n",
    "#get the accuracy score (correct predictions/total predictions)\n",
    "kNN.score() # add the parameters to get our accuracy score"
   ]
  },
  {
   "cell_type": "markdown",
   "metadata": {},
   "source": [
    "#### Let's refine the model a bit...\n",
    "\n",
    "We need to choose the best k value for our data. We can test a few and see which gives us the best result.\n",
    "\n",
    "To do this, we'll create a for loop"
   ]
  },
  {
   "cell_type": "code",
   "execution_count": null,
   "metadata": {},
   "outputs": [],
   "source": [
    "klist =  # a list of kvalues to test\n",
    "\n",
    "# loop through each value in our list\n",
    "### for each k value, train the model, test the model, and print the accuracy\n",
    "for k in klist:\n",
    "    kNN = KNeighborsClassifier(n_neighbors = ) # create model with current k value\n",
    "    kNN.fit(X_train, y_train) #train\n",
    "\n",
    "    #get the accuracy score (correct predictions/total predictions)\n",
    "    print(\"k=\", k, \"\\t accuracy=\", kNN.score(X_test, y_test)) #print the current k value and accuracy scor"
   ]
  },
  {
   "cell_type": "markdown",
   "metadata": {},
   "source": [
    "Looks like the k that gives us the best accuracy is k = 11. \n",
    "\n",
    "From here, we could create a final model using that k, and use that to predict whether cells are cancerous or not for new observations."
   ]
  },
  {
   "cell_type": "markdown",
   "metadata": {},
   "source": [
    "### Quick Recap!\n",
    "\n",
    "In this notebook, we...\n",
    "- learned the parts of a Jupyter Notebook\n",
    "- ran Python code using Google Colab\n",
    "- learned 5 foundational python data types\n",
    "- learned what functions are and used 12 functions in our code\n",
    "- found, read, and used documentation as a part of our coding practice\n",
    "- trained and tested a kNN model to make predicitons about cells being cancerous\n",
    "- made a for loop to find the best hyperparameter for our model"
   ]
  },
  {
   "cell_type": "markdown",
   "metadata": {},
   "source": [
    "## Taking things a step further...\n",
    "\n",
    "If you're looking to continue your Python Practice, here are some great resources for getting some practice in!\n",
    "- [Beginner Practice](https://www.w3schools.com/python/exercise.asp) : quick coding prompts for practice with data types and associated functions - with feedback and solutions!\n",
    "- [Python Cheatsheet](https://images.datacamp.com/image/upload/v1694526244/Marketing/Blog/Python_Basics_Cheat_Sheet-updated.pdf) : quick reference info on data types, operations, common functions, etc.\n",
    "- [101 Pandas Practice Problems](https://www.machinelearningplus.com/python/101-pandas-exercises-python/) : coding prompts for practice using the `pandas` package, with solutions!\n",
    "- [Loops Practice Problems](https://pynative.com/python-if-else-and-for-loop-exercise-with-solutions/) : Practice with writing loops\n",
    "- [Numpy](https://www.w3resource.com/python-exercises/numpy/index.php) : For practice with: all things NumPy (another common package!): data types, syntax, arrays, math operations, and more advanced topics if you're looking for a challenge!\n",
    "\n",
    "\n",
    "*Remember: an essential part of coding is making mistakes and getting yourself unstuck! Often times the best understanding comes from the biggest struggle. If you're interested in taking another step, give yourself the time and space to make mistakes, troubleshoot, and use documentation to learn along the way, don't expect everything to work on the first try.*"
   ]
  }
 ],
 "metadata": {
  "kernelspec": {
   "display_name": "base",
   "language": "python",
   "name": "python3"
  },
  "language_info": {
   "codemirror_mode": {
    "name": "ipython",
    "version": 3
   },
   "file_extension": ".py",
   "mimetype": "text/x-python",
   "name": "python",
   "nbconvert_exporter": "python",
   "pygments_lexer": "ipython3",
   "version": "undefined.undefined.undefined"
  }
 },
 "nbformat": 4,
 "nbformat_minor": 2
}
